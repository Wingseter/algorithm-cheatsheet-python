{
 "cells": [
  {
   "cell_type": "code",
   "metadata": {
    "ExecuteTime": {
     "end_time": "2024-08-23T01:32:40.435673Z",
     "start_time": "2024-08-23T01:32:40.430903Z"
    }
   },
   "source": [
    "memo = dict()\n",
    "def dp(i, j):\n",
    "    if (i, j) in memo:\n",
    "        return memo[(i, j)]"
   ],
   "outputs": [],
   "execution_count": 1
  },
  {
   "metadata": {
    "ExecuteTime": {
     "end_time": "2024-08-23T01:34:14.891193Z",
     "start_time": "2024-08-23T01:34:14.888105Z"
    }
   },
   "cell_type": "code",
   "source": [
    "class TreeNode():\n",
    "    def __init__(self, val):\n",
    "        self.val = val\n",
    "        self.left = None\n",
    "        self.right = None"
   ],
   "outputs": [],
   "execution_count": 2
  },
  {
   "metadata": {
    "ExecuteTime": {
     "end_time": "2024-08-23T01:37:19.654545Z",
     "start_time": "2024-08-23T01:37:19.651161Z"
    }
   },
   "cell_type": "code",
   "source": [
    "node1 = TreeNode(2)\n",
    "node2 = TreeNode(3)\n",
    "node3 = TreeNode(4)\n",
    "\n",
    "node1.val = 10\n",
    "node2.left = node2\n",
    "node2.right = node3"
   ],
   "outputs": [],
   "execution_count": 4
  },
  {
   "metadata": {
    "ExecuteTime": {
     "end_time": "2024-08-23T01:37:54.873209Z",
     "start_time": "2024-08-23T01:37:54.870746Z"
    }
   },
   "cell_type": "code",
   "source": [
    "class ListNode():\n",
    "    def __init__(self, val):\n",
    "        self.val = val\n",
    "        self.next = None"
   ],
   "outputs": [],
   "execution_count": 5
  },
  {
   "metadata": {
    "ExecuteTime": {
     "end_time": "2024-08-23T01:40:58.036969Z",
     "start_time": "2024-08-23T01:40:58.034067Z"
    }
   },
   "cell_type": "code",
   "source": [
    "node1 = ListNode(1)\n",
    "node2 = ListNode(2)\n",
    "node3 = ListNode(3)\n",
    "\n",
    "node1.val = 9\n",
    "node2.left = node3\n",
    "node2.right = node1"
   ],
   "outputs": [],
   "execution_count": 6
  },
  {
   "metadata": {
    "ExecuteTime": {
     "end_time": "2024-08-23T01:44:18.825101Z",
     "start_time": "2024-08-23T01:44:18.823148Z"
    }
   },
   "cell_type": "code",
   "source": [
    "class Solution():\n",
    "    def solutionFunc(self, text1: str, text2: str) -> int:\n",
    "        pass"
   ],
   "outputs": [],
   "execution_count": 7
  },
  {
   "metadata": {},
   "cell_type": "code",
   "outputs": [],
   "execution_count": null,
   "source": ""
  }
 ],
 "metadata": {
  "language_info": {
   "name": "python"
  },
  "kernelspec": {
   "name": "python3",
   "language": "python",
   "display_name": "Python 3 (ipykernel)"
  }
 },
 "nbformat": 4,
 "nbformat_minor": 2
}
