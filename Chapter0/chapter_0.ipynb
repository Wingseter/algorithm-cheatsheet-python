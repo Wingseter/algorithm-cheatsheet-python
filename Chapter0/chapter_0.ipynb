{
 "cells": [
  {
   "metadata": {},
   "cell_type": "markdown",
   "source": "Basic vector in python : List",
   "id": "4b24421fb1017ebc"
  },
  {
   "cell_type": "code",
   "id": "initial_id",
   "metadata": {
    "collapsed": true,
    "ExecuteTime": {
     "end_time": "2024-08-23T02:29:38.035247Z",
     "start_time": "2024-08-23T02:29:38.031604Z"
    }
   },
   "source": [
    "a = list() # empty list\n",
    "\n",
    "b = [None] * 100 # init with size\n",
    "\n",
    "c = [1, 2, 3] # init with value \n",
    "\n",
    "d = [4] * 100 # init with size and value \n",
    "\n",
    "e = [[None] * 100 for _ in range(100)] # 2 dimension list\n",
    "\n",
    "f = [[0] * 100 for _ in range(100)] # 2 dimension list with value\n",
    "\n"
   ],
   "outputs": [],
   "execution_count": 37
  },
  {
   "metadata": {
    "ExecuteTime": {
     "end_time": "2024-08-23T02:29:38.043885Z",
     "start_time": "2024-08-23T02:29:38.041200Z"
    }
   },
   "cell_type": "code",
   "source": [
    "print(\"length:\", len(b)) # check length\n",
    "\n",
    "print(\"is Empty\", not c) # check empty\n",
    "\n",
    "print(\"last\" , d[-1]) # get last\n",
    "\n",
    "d.append(100) # append value\n",
    "\n",
    "d.pop() # pop last \n",
    "\n",
    "d.pop(2) # pop list \n",
    "\n",
    "print(d)"
   ],
   "id": "16b93337f068c95a",
   "outputs": [
    {
     "name": "stdout",
     "output_type": "stream",
     "text": [
      "length: 100\n",
      "is Empty False\n",
      "last 4\n",
      "[4, 4, 4, 4, 4, 4, 4, 4, 4, 4, 4, 4, 4, 4, 4, 4, 4, 4, 4, 4, 4, 4, 4, 4, 4, 4, 4, 4, 4, 4, 4, 4, 4, 4, 4, 4, 4, 4, 4, 4, 4, 4, 4, 4, 4, 4, 4, 4, 4, 4, 4, 4, 4, 4, 4, 4, 4, 4, 4, 4, 4, 4, 4, 4, 4, 4, 4, 4, 4, 4, 4, 4, 4, 4, 4, 4, 4, 4, 4, 4, 4, 4, 4, 4, 4, 4, 4, 4, 4, 4, 4, 4, 4, 4, 4, 4, 4, 4, 4]\n"
     ]
    }
   ],
   "execution_count": 38
  },
  {
   "metadata": {},
   "cell_type": "markdown",
   "source": "Example Code",
   "id": "2ff70ff05622d7c7"
  },
  {
   "metadata": {
    "ExecuteTime": {
     "end_time": "2024-08-23T02:29:38.048794Z",
     "start_time": "2024-08-23T02:29:38.045695Z"
    }
   },
   "cell_type": "code",
   "source": [
    "n = 10\n",
    "nums = [0] * n\n",
    "\n",
    "print(not nums)\n",
    "\n",
    "print(len(nums))\n",
    "\n",
    "a = nums[4] # modify \n",
    "nums[0] = 11\n",
    "\n",
    "nums.append(20)\n",
    "print(len(nums))\n",
    "\n",
    "b = nums[-1] # get last \n",
    "print(b)\n",
    "\n",
    "nums.pop()\n",
    "print(len(nums))\n",
    "\n",
    "nums[1], nums[0] = nums[0], nums[1] # swp"
   ],
   "id": "70011c796481157d",
   "outputs": [
    {
     "name": "stdout",
     "output_type": "stream",
     "text": [
      "False\n",
      "10\n",
      "11\n",
      "20\n",
      "10\n"
     ]
    }
   ],
   "execution_count": 39
  },
  {
   "metadata": {
    "ExecuteTime": {
     "end_time": "2024-08-23T02:29:38.052212Z",
     "start_time": "2024-08-23T02:29:38.049877Z"
    }
   },
   "cell_type": "code",
   "source": [
    "s = \"\" # empty string\n",
    "\n",
    "s = \"abc\" \n",
    "\n",
    "len(s) # get string length\n",
    "\n",
    "s = s + \"e\" # append last word\n",
    "\n",
    "s = s[:-1] # drop last string\n",
    "\n",
    "s = s[2:3] # substring\n",
    "\n",
    "s = s + \"xyz\" # append string\n",
    "\n",
    "print(s)"
   ],
   "id": "53eace39590578a7",
   "outputs": [
    {
     "name": "stdout",
     "output_type": "stream",
     "text": [
      "cxyz\n"
     ]
    }
   ],
   "execution_count": 40
  },
  {
   "metadata": {
    "ExecuteTime": {
     "end_time": "2024-08-23T02:29:38.055557Z",
     "start_time": "2024-08-23T02:29:38.053621Z"
    }
   },
   "cell_type": "code",
   "source": [
    "mapping = dict() # hash in python\n",
    "\n",
    "# python dict don't care about type\n",
    "mapping[\"apple_count\"] = 0\n",
    "mapping[100] = \"banana\"\n",
    "\n",
    "print(mapping)"
   ],
   "id": "ddda4123873623e5",
   "outputs": [
    {
     "name": "stdout",
     "output_type": "stream",
     "text": [
      "{'apple_count': 0, 100: 'banana'}\n"
     ]
    }
   ],
   "execution_count": 41
  },
  {
   "metadata": {
    "ExecuteTime": {
     "end_time": "2024-08-23T02:29:38.058547Z",
     "start_time": "2024-08-23T02:29:38.056181Z"
    }
   },
   "cell_type": "code",
   "source": [
    "print(len(mapping))\n",
    "\n",
    "print(not mapping) # is empty? \n",
    "test = dict()\n",
    "print(not test) # test empty\n",
    "\n",
    "print(100 in mapping) # check key exist\n",
    "print(\"not exist\" in mapping) \n",
    "\n",
    "del mapping[\"apple_count\"] # remove\n",
    "print(mapping)\n",
    "mapping.pop(100) # pop return value\n",
    "print(mapping)"
   ],
   "id": "a5979970ef1cf737",
   "outputs": [
    {
     "name": "stdout",
     "output_type": "stream",
     "text": [
      "2\n",
      "False\n",
      "True\n",
      "True\n",
      "False\n",
      "{100: 'banana'}\n",
      "{}\n"
     ]
    }
   ],
   "execution_count": 42
  },
  {
   "metadata": {
    "ExecuteTime": {
     "end_time": "2024-08-23T02:31:31.597576Z",
     "start_time": "2024-08-23T02:31:31.594366Z"
    }
   },
   "cell_type": "code",
   "source": [
    "nums = [1, 1, 3, 4, 5, 2, 6]\n",
    "\n",
    "counter = dict()\n",
    "for num in nums:\n",
    "    if num in counter:\n",
    "        counter[num] = counter.get(num, 0) + 1\n",
    "    else:\n",
    "        counter[num] = 1\n",
    "\n",
    "print(counter)\n",
    "        \n",
    "for k, v in counter.items():\n",
    "    print(k, v)"
   ],
   "id": "8854c61e3d323dba",
   "outputs": [
    {
     "name": "stdout",
     "output_type": "stream",
     "text": [
      "{1: 2, 3: 1, 4: 1, 5: 1, 2: 1, 6: 1}\n",
      "1 2\n",
      "3 1\n",
      "4 1\n",
      "5 1\n",
      "2 1\n",
      "6 1\n"
     ]
    }
   ],
   "execution_count": 45
  },
  {
   "metadata": {
    "ExecuteTime": {
     "end_time": "2024-08-23T02:38:03.816385Z",
     "start_time": "2024-08-23T02:38:03.813888Z"
    }
   },
   "cell_type": "code",
   "source": [
    "visited = set() # set in python\n",
    "visited.add(100)\n",
    "\n",
    "len(visited) \n",
    "\n",
    "print(not visited) # check empty\n",
    "\n",
    "print(100 in visited) # value exist\n",
    "print(200 in visited)\n",
    "\n",
    "visited.add(200)\n",
    "visited.remove(200)"
   ],
   "id": "c209a77bdf43919d",
   "outputs": [
    {
     "name": "stdout",
     "output_type": "stream",
     "text": [
      "False\n",
      "True\n",
      "False\n"
     ]
    }
   ],
   "execution_count": 49
  },
  {
   "metadata": {
    "ExecuteTime": {
     "end_time": "2024-08-23T02:40:34.351014Z",
     "start_time": "2024-08-23T02:40:34.346834Z"
    }
   },
   "cell_type": "code",
   "source": [
    "from collections import deque\n",
    "\n",
    "q = deque()\n",
    "\n",
    "print(not q)\n",
    "\n",
    "print(len(q))\n",
    "\n",
    "q.append(100)\n",
    "q.append(200)\n",
    "q.append(300)\n",
    "\n",
    "print(q[0])\n",
    "print(q[-1])\n",
    "\n",
    "q.popleft()\n",
    "q.pop()\n",
    "\n",
    "print(q)"
   ],
   "id": "de96bddae4b128bd",
   "outputs": [
    {
     "name": "stdout",
     "output_type": "stream",
     "text": [
      "True\n",
      "0\n",
      "100\n",
      "300\n",
      "deque([200])\n"
     ]
    }
   ],
   "execution_count": 54
  },
  {
   "metadata": {
    "ExecuteTime": {
     "end_time": "2024-08-23T02:46:32.124499Z",
     "start_time": "2024-08-23T02:46:32.121542Z"
    }
   },
   "cell_type": "code",
   "source": [
    "stack = list() # list is stack in python\n",
    "\n",
    "stack.append(100)\n",
    "stack.pop()\n",
    "\n",
    "print(not stack)\n",
    "\n",
    "print(len(stack))\n",
    "\n",
    "stack.append(200)\n",
    "\n",
    "print(stack[0])\n",
    "stack.pop()\n"
   ],
   "id": "dd75c0cc80313a21",
   "outputs": [
    {
     "name": "stdout",
     "output_type": "stream",
     "text": [
      "True\n",
      "0\n",
      "200\n"
     ]
    },
    {
     "data": {
      "text/plain": [
       "200"
      ]
     },
     "execution_count": 57,
     "metadata": {},
     "output_type": "execute_result"
    }
   ],
   "execution_count": 57
  },
  {
   "metadata": {},
   "cell_type": "markdown",
   "source": "Python3 Summary",
   "id": "bcb05a976bb64d49"
  },
  {
   "metadata": {
    "ExecuteTime": {
     "end_time": "2024-08-23T02:50:06.348703Z",
     "start_time": "2024-08-23T02:50:06.345808Z"
    }
   },
   "cell_type": "code",
   "source": [
    "arr = [1, 2, 3, 4]\n",
    "print(arr[2])\n",
    "arr.append(5)\n",
    "print(arr[-1])\n",
    "\n",
    "# stack\n",
    "stack = []\n",
    "stack.append(100)\n",
    "stack.append(200)\n",
    "e1 = stack.pop()\n",
    "e2 = stack[-1]"
   ],
   "id": "96831884460bc704",
   "outputs": [
    {
     "name": "stdout",
     "output_type": "stream",
     "text": [
      "3\n",
      "5\n"
     ]
    }
   ],
   "execution_count": 58
  },
  {
   "metadata": {
    "ExecuteTime": {
     "end_time": "2024-08-23T02:50:43.514116Z",
     "start_time": "2024-08-23T02:50:43.510963Z"
    }
   },
   "cell_type": "code",
   "source": [
    "memo = dict()\n",
    "def dp(i, j):\n",
    "    if (i, j) in memo:\n",
    "        return memo[(i, j)]\n",
    "    \n",
    "    memo[(i, j)] = dp(i, j + 1)\n",
    "    \n",
    "    return memo[(i, j)]"
   ],
   "id": "69bbe008e3609c17",
   "outputs": [],
   "execution_count": 59
  },
  {
   "metadata": {},
   "cell_type": "code",
   "outputs": [],
   "execution_count": null,
   "source": "",
   "id": "7b98eb8d5c349e6e"
  }
 ],
 "metadata": {
  "kernelspec": {
   "display_name": "Python 3",
   "language": "python",
   "name": "python3"
  },
  "language_info": {
   "codemirror_mode": {
    "name": "ipython",
    "version": 2
   },
   "file_extension": ".py",
   "mimetype": "text/x-python",
   "name": "python",
   "nbconvert_exporter": "python",
   "pygments_lexer": "ipython2",
   "version": "2.7.6"
  }
 },
 "nbformat": 4,
 "nbformat_minor": 5
}
