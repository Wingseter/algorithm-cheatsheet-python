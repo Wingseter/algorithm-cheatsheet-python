{
 "cells": [
  {
   "cell_type": "markdown",
   "id": "cbe1cc9d24bd2258",
   "metadata": {},
   "source": [
    "1.1.2 Data structure and basic control"
   ]
  },
  {
   "cell_type": "code",
   "id": "initial_id",
   "metadata": {
    "collapsed": true,
    "ExecuteTime": {
     "end_time": "2024-08-30T02:57:00.144979Z",
     "start_time": "2024-08-30T02:57:00.139887Z"
    }
   },
   "source": [
    "def traverse(arr: list) -> list:\n",
    "    for i in range(len(arr)):\n",
    "        pass\n"
   ],
   "outputs": [],
   "execution_count": 1
  },
  {
   "cell_type": "code",
   "id": "5c86281857b3c75d",
   "metadata": {
    "ExecuteTime": {
     "end_time": "2024-08-30T02:57:00.161441Z",
     "start_time": "2024-08-30T02:57:00.158317Z"
    }
   },
   "source": [
    "class ListNode:\n",
    "    def __init__(self, val=0, next=None):\n",
    "        self.val = val\n",
    "        self.next = next\n",
    "\n",
    "def traverse(head: ListNode) -> list:\n",
    "    current = head\n",
    "    while current is not None:\n",
    "        current = current.next\n",
    "    return []\n",
    "\n",
    "\n",
    "def traverse2(head: ListNode) -> list:\n",
    "    traverse(head.next)"
   ],
   "outputs": [],
   "execution_count": 2
  },
  {
   "cell_type": "code",
   "id": "cd43027091705dc9",
   "metadata": {
    "ExecuteTime": {
     "end_time": "2024-08-30T02:57:00.168322Z",
     "start_time": "2024-08-30T02:57:00.165367Z"
    }
   },
   "source": [
    "# Basic Binary tree node\n",
    "class TreeNode():\n",
    "    def __init__(self, val=0, left=None, right=None):\n",
    "        self.val = val\n",
    "        self.left = left\n",
    "        self.right = right\n",
    "    \n",
    "def traverse(root: TreeNode) -> None:\n",
    "    # Preorder traverse\n",
    "    traverse(root.left)\n",
    "    # Inorder traverse\n",
    "    traverse(root.right)\n",
    "    # Postorder traverse\n",
    "    "
   ],
   "outputs": [],
   "execution_count": 3
  },
  {
   "cell_type": "code",
   "id": "9c5721ed5a77dcce",
   "metadata": {
    "ExecuteTime": {
     "end_time": "2024-08-30T02:57:00.209566Z",
     "start_time": "2024-08-30T02:57:00.206476Z"
    }
   },
   "source": [
    "from typing import List, Optional\n",
    "\n",
    "class TreeNode:\n",
    "    def __init__(self, val: int = 0, nodes: Optional[List['TreeNode']] = None):\n",
    "        self.val = val\n",
    "        self.children = nodes if nodes is not None else []\n",
    "        \n",
    "def traverse(root: TreeNode) -> None:\n",
    "    for node in root.children:\n",
    "        traverse(node)\n",
    "        \n"
   ],
   "outputs": [],
   "execution_count": 4
  },
  {
   "cell_type": "markdown",
   "id": "8398988a94dec4d6",
   "metadata": {},
   "source": [
    "LeetCode 124-problem"
   ]
  },
  {
   "cell_type": "code",
   "id": "5af0b927ff9526be",
   "metadata": {
    "ExecuteTime": {
     "end_time": "2024-08-30T02:57:00.221085Z",
     "start_time": "2024-08-30T02:57:00.218165Z"
    }
   },
   "source": [
    "ans = [-987654321]\n",
    "\n",
    "def oneSideMax(root: TreeNode) -> int:\n",
    "    if root is None:\n",
    "        return 0\n",
    "    left = max(0, oneSideMax(root.left))\n",
    "    right = max(0, oneSideMax(root.right))\n",
    "    \n",
    "    # Postorder traverse\n",
    "    ans[0] = max(ans[0], left + right + root.val)\n",
    "    return max(left, right) + root.val"
   ],
   "outputs": [],
   "execution_count": 5
  },
  {
   "cell_type": "markdown",
   "id": "48e1ac0ec6b0d53a",
   "metadata": {},
   "source": [
    "LeetCode 105-problem"
   ]
  },
  {
   "cell_type": "code",
   "id": "31f0a9a508372a74",
   "metadata": {
    "ExecuteTime": {
     "end_time": "2024-08-30T02:57:00.226578Z",
     "start_time": "2024-08-30T02:57:00.223594Z"
    }
   },
   "source": [
    "def buildTree(preorder: List[int], preStart: int, preEnd: int, \n",
    "              inorder: List[int], inStart: int, inEnd: int, inMap: dict) -> TreeNode:\n",
    "    if preStart > preEnd or inStart > inEnd:\n",
    "        return None\n",
    "    \n",
    "    root = TreeNode(preorder[preStart])\n",
    "    inRoot = inMap[root.val]\n",
    "    numsLeft = inRoot - inStart\n",
    "\n",
    "    root.left = buildTree(preorder, preStart + 1, preStart + numsLeft,\\\n",
    "                          inorder, inStart, inRoot - 1, inMap)\n",
    "    root.right = buildTree(preorder, preStart + numsLeft + 1, preEnd,\\\n",
    "                           inorder, inRoot + 1, inEnd, inMap)\n",
    "\n",
    "    return root"
   ],
   "outputs": [],
   "execution_count": 6
  },
  {
   "cell_type": "code",
   "id": "1b7860f0a34a81bf",
   "metadata": {
    "ExecuteTime": {
     "end_time": "2024-08-30T02:57:00.244023Z",
     "start_time": "2024-08-30T02:57:00.241456Z"
    }
   },
   "source": [
    "node = TreeNode()\n",
    "prev = node\n",
    "s = None\n",
    "t = None\n",
    "\n",
    "def traverse(node: TreeNode):\n",
    "    global prev, s, t\n",
    "    if node is None:\n",
    "        return\n",
    "     \n",
    "    traverse(node.left)\n",
    "\n",
    "    if node.val < prev.val:\n",
    "        if s is None:\n",
    "            s = prev\n",
    "        t = node\n",
    "\n",
    "    prev = node\n",
    "\n",
    "    traverse(node.right)\n"
   ],
   "outputs": [],
   "execution_count": 7
  },
  {
   "cell_type": "code",
   "id": "e26f4f5b",
   "metadata": {
    "ExecuteTime": {
     "end_time": "2024-08-30T02:57:00.259483Z",
     "start_time": "2024-08-30T02:57:00.256704Z"
    }
   },
   "source": [
    "def coinChange(coins: List[int], amount: int):\n",
    "    def dp(n):\n",
    "        if n == 0:\n",
    "            return 0\n",
    "        if n < 0:\n",
    "            return -1\n",
    "        \n",
    "        res = float(\"INF\")\n",
    "        for coin in coins:\n",
    "            subproblem = dp(n - coin)\n",
    "\n",
    "            if subproblem == -1:\n",
    "                continue\n",
    "            res = min(res, 1 + subproblem)\n",
    "        \n",
    "        return res \n"
   ],
   "outputs": [],
   "execution_count": 8
  },
  {
   "cell_type": "code",
   "id": "d8d0da43",
   "metadata": {
    "ExecuteTime": {
     "end_time": "2024-08-30T02:57:00.263607Z",
     "start_time": "2024-08-30T02:57:00.260739Z"
    }
   },
   "source": [
    "def backtrack(nums: list, track: list):\n",
    "    # If the current 'track' list is the same length as 'nums', we've found a valid permutation\n",
    "    if len(track) == len(nums):\n",
    "        print(track)  # Print or store the current permutation\n",
    "        return\n",
    "    \n",
    "    # Loop through each number in 'nums'\n",
    "    for num in nums:\n",
    "        # Skip the number if it's already in the 'track' (to avoid duplicates)\n",
    "        if num in track:\n",
    "            continue\n",
    "        \n",
    "        # Add the number to the current 'track'\n",
    "        track.append(num)\n",
    "        \n",
    "        # Recurse with the updated 'track'\n",
    "        backtrack(nums, track)\n",
    "        \n",
    "        # Remove the last number added (backtrack)\n",
    "        track.pop()\n",
    "\n",
    "# Example usage\n",
    "nums = [1, 2, 3]\n",
    "backtrack(nums, [])\n"
   ],
   "outputs": [
    {
     "name": "stdout",
     "output_type": "stream",
     "text": [
      "[1, 2, 3]\n",
      "[1, 3, 2]\n",
      "[2, 1, 3]\n",
      "[2, 3, 1]\n",
      "[3, 1, 2]\n",
      "[3, 2, 1]\n"
     ]
    }
   ],
   "execution_count": 9
  },
  {
   "cell_type": "code",
   "id": "b94f79a5",
   "metadata": {
    "ExecuteTime": {
     "end_time": "2024-08-30T02:57:00.288579Z",
     "start_time": "2024-08-30T02:57:00.286242Z"
    }
   },
   "source": [
    "def fib(n:int):\n",
    "    if n == 0: return 0\n",
    "    if n == 1 or n == 2: return 1\n",
    "    return fib(n - 1) + fib(n - 2)"
   ],
   "outputs": [],
   "execution_count": 10
  },
  {
   "cell_type": "code",
   "id": "66448e83",
   "metadata": {
    "ExecuteTime": {
     "end_time": "2024-08-30T02:57:00.301406Z",
     "start_time": "2024-08-30T02:57:00.298540Z"
    }
   },
   "source": [
    "# Using memo fib\n",
    "n = 100\n",
    "\n",
    "def fib(n: int):\n",
    "    if n == 0:\n",
    "        return 0\n",
    "    memo = [0] * (n + 1)\n",
    "    return helper(memo, n)\n",
    "\n",
    "def helper(memo: list, n: int):\n",
    "    if n == 1 or n == 2:\n",
    "        return 1\n",
    "    if memo[n] != 0:\n",
    "        return memo[n]\n",
    "    memo[n] = helper(memo, n - 1) + helper(memo, n - 2)\n",
    "    return memo[n]\n"
   ],
   "outputs": [],
   "execution_count": 11
  },
  {
   "cell_type": "code",
   "id": "47dad042",
   "metadata": {
    "ExecuteTime": {
     "end_time": "2024-08-30T02:57:00.305208Z",
     "start_time": "2024-08-30T02:57:00.302887Z"
    }
   },
   "source": [
    "def fib(n:int):\n",
    "    if n == 0:\n",
    "        return 0\n",
    "    if n == 1 or n == 2:\n",
    "        return 1\n",
    "    dp = [0] * (n + 1)\n",
    "\n",
    "    dp[1] = dp[2] + 1\n",
    "\n",
    "    for i in range(2, n):\n",
    "        dp[i] = dp[i - 1] + dp[i - 2]\n",
    "\n",
    "    return dp[n]"
   ],
   "outputs": [],
   "execution_count": 12
  },
  {
   "cell_type": "code",
   "id": "216ef3b7",
   "metadata": {
    "ExecuteTime": {
     "end_time": "2024-08-30T02:57:00.312399Z",
     "start_time": "2024-08-30T02:57:00.310132Z"
    }
   },
   "source": [
    "def fib(n:int):\n",
    "    if n == 0:\n",
    "        return 0\n",
    "    if n == 2 or n == 1:\n",
    "        return 1\n",
    "    \n",
    "    prev = 1 \n",
    "    curr = 1\n",
    "    for i in range(2, n):\n",
    "        sum = prev + curr\n",
    "        prev = curr\n",
    "        curr = sum\n",
    "    return curr"
   ],
   "outputs": [],
   "execution_count": 13
  },
  {
   "cell_type": "code",
   "id": "b49e3beb",
   "metadata": {
    "ExecuteTime": {
     "end_time": "2024-08-30T02:59:09.158416Z",
     "start_time": "2024-08-30T02:59:09.154822Z"
    }
   },
   "source": [
    "def coinChange(coins: List[int], amount: int):\n",
    "    def dp(n):\n",
    "        if n == 0:\n",
    "            return 0\n",
    "        if n < 0:\n",
    "            return -1\n",
    "        res = float('INF')\n",
    "        for coin in coins:\n",
    "            subproblem = dp(n - coin)\n",
    "            if subproblem == -1:\n",
    "                continue\n",
    "            res = min(res, 1 + dp(n - coin))\n",
    "        return res if res  != float('INF') else -1\n",
    "    \n",
    "    return dp(amount)\n"
   ],
   "outputs": [],
   "execution_count": 14
  },
  {
   "metadata": {
    "ExecuteTime": {
     "end_time": "2024-08-30T03:05:36.480426Z",
     "start_time": "2024-08-30T03:05:36.476999Z"
    }
   },
   "cell_type": "code",
   "source": [
    "def coinChange(coins: List[int], amount: int):\n",
    "    memo = dict()\n",
    "    def dp(n):\n",
    "        if n in memo: return memo[n]\n",
    "        \n",
    "        if n == 0:\n",
    "         return 0\n",
    "        if n < 0:\n",
    "         return -1 \n",
    "        \n",
    "        res = float('INF')\n",
    "        for coin in coins:\n",
    "         subproblem = dp(n - coin)\n",
    "         if subproblem == -1:\n",
    "             continue\n",
    "        res = min(res, 1 + subproblem)\n",
    "             \n",
    "        memo[n] = res if res != float('INF') else -1\n",
    "        return memo[n]\n",
    "    \n",
    "    return dp(amount)\n",
    "        \n",
    "    "
   ],
   "id": "ac8dff536d53345",
   "outputs": [],
   "execution_count": 15
  },
  {
   "metadata": {
    "ExecuteTime": {
     "end_time": "2024-08-30T03:08:03.319582Z",
     "start_time": "2024-08-30T03:08:03.316317Z"
    }
   },
   "cell_type": "code",
   "source": [
    "def coinChange(coins: List[int], amount: int):\n",
    "    dp = [amount + 1] * amount\n",
    "    \n",
    "    dp[0] = 0\n",
    "    for i in range(len(dp)):\n",
    "        for coin in coins:\n",
    "            if i - coin < 0:\n",
    "                continue\n",
    "            dp[i] = min(dp[i], 1 + dp[i - coin])\n",
    "            \n",
    "    return -1 if (dp[amount] == amount + 1) else dp[amount]"
   ],
   "id": "c1694e26450bbdd1",
   "outputs": [],
   "execution_count": 16
  },
  {
   "metadata": {
    "ExecuteTime": {
     "end_time": "2024-08-30T03:10:09.682834Z",
     "start_time": "2024-08-30T03:10:09.680012Z"
    }
   },
   "cell_type": "code",
   "source": [
    "result = []\n",
    "quit = False\n",
    "\n",
    "def backtrack(root, selects):\n",
    "    if quit:\n",
    "        result.append('1') # add path\n",
    "        return \n",
    "    for select in selects:\n",
    "        # select \n",
    "        backtrack(root, selects)\n",
    "        # de select\n",
    "    "
   ],
   "id": "1bc460a990fd57a7",
   "outputs": [],
   "execution_count": 17
  },
  {
   "metadata": {
    "ExecuteTime": {
     "end_time": "2024-08-30T12:37:26.235096Z",
     "start_time": "2024-08-30T12:37:26.232664Z"
    }
   },
   "cell_type": "code",
   "source": [
    "def traverse(root: TreeNode) -> None:\n",
    "    for child in root.children:\n",
    "        # Preorder\n",
    "        traverse(child)\n",
    "        # PostOrder"
   ],
   "id": "91f32145f33e3d49",
   "outputs": [],
   "execution_count": 18
  },
  {
   "metadata": {
    "ExecuteTime": {
     "end_time": "2024-09-02T05:13:17.526046Z",
     "start_time": "2024-09-02T05:13:17.515342Z"
    }
   },
   "cell_type": "code",
   "source": [
    "'''\n",
    "path = []\n",
    "for choose in choose_list:\n",
    "    # choose \n",
    "    choose_list.append(choose)\n",
    "    path.append(choose.val)\n",
    "    backtrack(path, choose_list)\n",
    "    path.remove(choose.val)\n",
    "    choose.remove(choose.val)\n",
    "'''"
   ],
   "id": "f4a0456d59dba87e",
   "outputs": [
    {
     "data": {
      "text/plain": [
       "'\\npath = []\\nfor choose in choose_list:\\n    # choose \\n    choose_list.append(choose)\\n    path.append(choose.val)\\n    backtrack(path, choose_list)\\n    path.remove(choose.val)\\n    choose.remove(choose.val)\\n'"
      ]
     },
     "execution_count": 19,
     "metadata": {},
     "output_type": "execute_result"
    }
   ],
   "execution_count": 19
  },
  {
   "metadata": {
    "ExecuteTime": {
     "end_time": "2024-09-02T05:15:39.227199Z",
     "start_time": "2024-09-02T05:15:39.223436Z"
    }
   },
   "cell_type": "code",
   "source": [
    "res = list()\n",
    "\n",
    "def permute(nums: List[int]):\n",
    "    track = list()\n",
    "    backtrack(nums, track)\n",
    "    return res\n",
    "\n",
    "def backtrack(nums: List[int], track):\n",
    "    if len(track) == len(nums):\n",
    "        res.append(track)\n",
    "        return \n",
    "    \n",
    "    for i in range(len(nums)):\n",
    "        if nums[i] in track:\n",
    "            continue\n",
    "            \n",
    "        track.append(nums[i])\n",
    "        backtrack(nums, track)\n",
    "        track.pop()"
   ],
   "id": "62f8e4394ea6fb7e",
   "outputs": [],
   "execution_count": 20
  },
  {
   "metadata": {},
   "cell_type": "markdown",
   "source": "# N Queen",
   "id": "df3c04aed778fbbe"
  },
  {
   "metadata": {
    "ExecuteTime": {
     "end_time": "2024-09-02T08:12:11.690594Z",
     "start_time": "2024-09-02T08:12:11.683796Z"
    }
   },
   "cell_type": "code",
   "source": [
    "res = []\n",
    "\n",
    "def solveNQueen(n: int):\n",
    "    board = [['.'] * n for i in range(n)]\n",
    "    backtrack(board, 0)\n",
    "    return res\n",
    "\n",
    "def backtrack(board: List[List[str]], row: int):\n",
    "    if row == len(board):\n",
    "        res.append(board)\n",
    "        return\n",
    "    \n",
    "    n = len(board[row])\n",
    "    for col in range(n):\n",
    "        if not isValid(board, row, col):\n",
    "            continue\n",
    "        board[row][col] = 'Q'\n",
    "        backtrack(board, row + 1)\n",
    "        board[row][col] = '.'\n",
    "    \n",
    "def isValid(board, row, col):\n",
    "    n = len(board)\n",
    "    for i in range(row):\n",
    "        if board[i][col] == 'Q':\n",
    "            return False\n",
    "    \n",
    "    i = row - 1\n",
    "    j = col + 1\n",
    "    while i >= 0 and j < n:\n",
    "        i -= 1\n",
    "        j += 1\n",
    "        if board[i][j] == 'Q':\n",
    "            return False\n",
    "        \n",
    "    i = row - 1\n",
    "    j = col - 1\n",
    "    while i >= 0 and j >= 0:\n",
    "        i -= 1\n",
    "        j -= 1\n",
    "        if board[i][j] == 'Q':\n",
    "            return False\n",
    "        \n",
    "    return True\n",
    "\n",
    "    "
   ],
   "id": "4e0174a1648411b5",
   "outputs": [],
   "execution_count": 22
  },
  {
   "metadata": {
    "ExecuteTime": {
     "end_time": "2024-09-02T08:14:18.803842Z",
     "start_time": "2024-09-02T08:14:18.800447Z"
    }
   },
   "cell_type": "code",
   "source": [
    "def backtrack(board: List[List[str]], row: int):\n",
    "    if row == len(board):\n",
    "        res.append(board)\n",
    "        return True\n",
    "    \n",
    "    n = len(board[row])\n",
    "    for col in range(n):\n",
    "        if not isValid(board, row, col):\n",
    "            continue\n",
    "            \n",
    "        board[row][col] = 'Q'\n",
    "        if backtrack(board, row + 1):\n",
    "            return True\n",
    "        \n",
    "        board[row][col] = '.'\n",
    "        \n",
    "    return False"
   ],
   "id": "203bcf6835b91aaa",
   "outputs": [],
   "execution_count": 23
  },
  {
   "metadata": {
    "ExecuteTime": {
     "end_time": "2024-09-02T08:18:29.511460Z",
     "start_time": "2024-09-02T08:18:29.507846Z"
    }
   },
   "cell_type": "code",
   "source": [
    "from collections import deque\n",
    "\n",
    "def bfs(start: TreeNode, target: TreeNode):\n",
    "    q = deque()\n",
    "    visited = set()\n",
    "    \n",
    "    q.appendleft(start)\n",
    "    visited.add(start)\n",
    "    step = 0\n",
    "    \n",
    "    while q:\n",
    "        sz = len(q)\n",
    "        for _ in range(sz):\n",
    "            cur = q.popleft()\n",
    "            if cur == target:\n",
    "                return step\n",
    "            \n",
    "            for x in range(len(cur.children)):\n",
    "                if cur.children[x] not in visited:\n",
    "                    q.append(cur.children[x])\n",
    "                    visited.add(cur.children[x])\n",
    "                    \n",
    "            step += 1\n",
    "            \n",
    "            "
   ],
   "id": "ce46160d0d3e7822",
   "outputs": [],
   "execution_count": 24
  },
  {
   "metadata": {
    "ExecuteTime": {
     "end_time": "2024-09-02T08:52:46.880460Z",
     "start_time": "2024-09-02T08:52:46.876616Z"
    }
   },
   "cell_type": "code",
   "source": [
    "def minDepth(root: TreeNode) -> int:\n",
    "    if root is None:\n",
    "        return 0\n",
    "    q = deque([root])\n",
    "    \n",
    "    depth = 1\n",
    "    \n",
    "    while q:\n",
    "        sz = len(q)\n",
    "        for _ in range(sz):\n",
    "            cur = q.popleft()\n",
    "            if cur.left is not None and cur.right is not None:\n",
    "                return depth\n",
    "            if cur.left is not None:\n",
    "                q.append(cur.left)\n",
    "            if cur.right is not None:\n",
    "                q.append(cur.right)\n",
    "                \n",
    "        depth += 1\n",
    "        \n",
    "    return depth"
   ],
   "id": "f379a208113dcca0",
   "outputs": [],
   "execution_count": 25
  },
  {
   "metadata": {
    "ExecuteTime": {
     "end_time": "2024-09-02T08:58:41.137095Z",
     "start_time": "2024-09-02T08:58:41.134206Z"
    }
   },
   "cell_type": "code",
   "source": [
    "def plusOne(s, j):\n",
    "    if s[j] == '9':\n",
    "        s[j] = '0'\n",
    "    else:\n",
    "        s[j] += 1\n",
    "    \n",
    "    return s\n",
    "\n",
    "def minusONe(s, j):\n",
    "    if s[j] == '0':\n",
    "        s[j] = '9'\n",
    "    else:\n",
    "        s[j] -= 1\n",
    "    \n",
    "    return s   \n",
    "\n",
    "def bfs(target):\n",
    "    q = deque()\n",
    "    \n",
    "    q.appendleft([0, 0, 0, 0])\n",
    "    while q:\n",
    "        sz = len(q)\n",
    "        for i in range(sz):\n",
    "            cur = q.pop()\n",
    "            \n",
    "            for j in range(4):\n",
    "                up = plusOne(cur, j)\n",
    "                down = minusONe(cur, j)\n",
    "                q.append(up)\n",
    "                q.append(down)\n",
    "                \n",
    "                \n",
    "    return \n"
   ],
   "id": "1af6a317242760fd",
   "outputs": [],
   "execution_count": 26
  },
  {
   "metadata": {
    "ExecuteTime": {
     "end_time": "2024-09-02T09:03:05.495812Z",
     "start_time": "2024-09-02T09:03:05.490592Z"
    }
   },
   "cell_type": "code",
   "source": [
    "def openLock(deadends, target):\n",
    "    deads = set()\n",
    "    for s in deadends:\n",
    "        deads.add(s)\n",
    "        \n",
    "    visited = set()\n",
    "    q = deque()\n",
    "    \n",
    "    step = 0\n",
    "    q.append([0, 0, 0, 0])\n",
    "    visited.add([0, 0, 0, 0])\n",
    "    \n",
    "    while q:\n",
    "        sz = len(q)\n",
    "        for _ in range(sz):\n",
    "            cur = q.pop()\n",
    "            if cur in deads:\n",
    "                continue\n",
    "                \n",
    "            if cur == target:\n",
    "                return step\n",
    "            \n",
    "            for j in range(4):\n",
    "                up = plusOne(cur, j)\n",
    "                down = minusONe(cur, j)\n",
    "                \n",
    "                if up not in visited:\n",
    "                    q.append(up)\n",
    "                    visited.add(up)\n",
    "                    \n",
    "                if down not in visited:\n",
    "                    q.append(down)\n",
    "                    visited.add(down)\n",
    "                    \n",
    "        step += 1\n",
    "        \n",
    "    return -1\n",
    "                "
   ],
   "id": "2b9b3dfa90971611",
   "outputs": [],
   "execution_count": 27
  },
  {
   "metadata": {
    "ExecuteTime": {
     "end_time": "2024-09-02T09:11:33.281311Z",
     "start_time": "2024-09-02T09:11:33.277002Z"
    }
   },
   "cell_type": "code",
   "source": [
    "def openLock(deadends, target):\n",
    "    deads = set()\n",
    "    for s in deadends:\n",
    "        deads.add(s)\n",
    "        \n",
    "    q1 = deque()\n",
    "    q2 = deque()\n",
    "    visited = set()\n",
    "    \n",
    "    q1.appendleft([0, 0, 0, 0])\n",
    "    q2.appendleft(target)\n",
    "    step = 0\n",
    "    \n",
    "    while q1 and q2:\n",
    "        temp = set()\n",
    "        for cur in q1:\n",
    "            if cur in deads:\n",
    "                continue\n",
    "            if cur in q2:\n",
    "                return step\n",
    "            \n",
    "            visited.add(cur)\n",
    "            \n",
    "            for j in range(4):\n",
    "                \n",
    "                up = plusOne(cur, j)\n",
    "                down = minusONe(cur, j)\n",
    "                if up not in visited:\n",
    "                    temp.add(up)\n",
    "                if down not in visited:\n",
    "                    temp.add(down)\n",
    "                    \n",
    "                \n",
    "        step += 1\n",
    "        \n",
    "        q1 = q2\n",
    "        q2 = temp\n",
    "    return -1"
   ],
   "id": "c4a20df9f1964077",
   "outputs": [],
   "execution_count": 28
  },
  {
   "metadata": {
    "ExecuteTime": {
     "end_time": "2024-09-02T09:12:21.570320Z",
     "start_time": "2024-09-02T09:12:21.568412Z"
    }
   },
   "cell_type": "code",
   "source": [
    "def hasCycle(head: ListNode):\n",
    "    while head is not None:\n",
    "        head = head.next\n",
    "        \n",
    "    return False"
   ],
   "id": "6f4493c22f1edb2d",
   "outputs": [],
   "execution_count": 29
  },
  {
   "metadata": {
    "ExecuteTime": {
     "end_time": "2024-09-02T12:25:15.659299Z",
     "start_time": "2024-09-02T12:25:15.652851Z"
    }
   },
   "cell_type": "code",
   "source": [
    "def hasCycle(head: ListNode):\n",
    "    fast = ListNode()\n",
    "    slow = ListNode()\n",
    "    fast = slow = prev\n",
    "    while fast is not None and fast.next is not None:        \n",
    "        fast = fast.next.next\n",
    "        slow = slow.next\n",
    "    \n",
    "    if fast == slow:\n",
    "        return True\n",
    "    \n",
    "def detectCycle(head: ListNode):\n",
    "    fast = ListNode()\n",
    "    slow = ListNode()\n",
    "    while fast is not None and fast.next is not None:\n",
    "        fast = fast.next.next\n",
    "        slow = slow.next\n",
    "        if fast == slow:\n",
    "            break\n",
    "        \n",
    "    slow = head\n",
    "    while slow != fast:\n",
    "        fast = fast.next\n",
    "        slow = slow.next\n",
    "    \n",
    "    return slow\n",
    "        \n"
   ],
   "id": "b0aa4f486cb416cb",
   "outputs": [],
   "execution_count": 32
  },
  {
   "metadata": {
    "ExecuteTime": {
     "end_time": "2024-09-02T12:35:24.235700Z",
     "start_time": "2024-09-02T12:35:24.232947Z"
    }
   },
   "cell_type": "code",
   "source": [
    "def findMiddle():\n",
    "    fast = ListNode()\n",
    "    slow = ListNode()\n",
    "    while fast != None and fast.naxt != None:\n",
    "        fast = fast.next.next \n",
    "        slow = slow.next\n",
    "        \n",
    "    return slow"
   ],
   "id": "1c1863fd5b064130",
   "outputs": [],
   "execution_count": 33
  },
  {
   "metadata": {
    "ExecuteTime": {
     "end_time": "2024-09-02T12:41:59.794809Z",
     "start_time": "2024-09-02T12:41:59.792648Z"
    }
   },
   "cell_type": "code",
   "source": [
    "def find_K_Middle(k: int):\n",
    "    slow = ListNode()\n",
    "    fast = ListNode()\n",
    "    \n",
    "    while k > 0:\n",
    "        fast = fast.next\n",
    "        \n",
    "    while fast != None:\n",
    "        fast = fast.next\n",
    "        slow = slow.next\n",
    "        \n",
    "    return slow\n",
    "    "
   ],
   "id": "985311abb1a7219f",
   "outputs": [],
   "execution_count": 34
  },
  {
   "metadata": {},
   "cell_type": "code",
   "outputs": [],
   "execution_count": null,
   "source": "",
   "id": "e15d14d6cfa03629"
  }
 ],
 "metadata": {
  "kernelspec": {
   "display_name": "Python 3",
   "language": "python",
   "name": "python3"
  },
  "language_info": {
   "codemirror_mode": {
    "name": "ipython",
    "version": 3
   },
   "file_extension": ".py",
   "mimetype": "text/x-python",
   "name": "python",
   "nbconvert_exporter": "python",
   "pygments_lexer": "ipython3",
   "version": "3.9.17"
  }
 },
 "nbformat": 4,
 "nbformat_minor": 5
}
